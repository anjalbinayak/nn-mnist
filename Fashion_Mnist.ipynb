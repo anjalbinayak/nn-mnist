{
  "nbformat": 4,
  "nbformat_minor": 0,
  "metadata": {
    "colab": {
      "name": "Fashion Mnist",
      "provenance": [],
      "collapsed_sections": [],
      "authorship_tag": "ABX9TyMoTi2i8NIn7V3mXgiZihES",
      "include_colab_link": true
    },
    "kernelspec": {
      "name": "python3",
      "display_name": "Python 3"
    },
    "accelerator": "GPU"
  },
  "cells": [
    {
      "cell_type": "markdown",
      "metadata": {
        "id": "view-in-github",
        "colab_type": "text"
      },
      "source": [
        "<a href=\"https://colab.research.google.com/github/anjalbinayak/nn-mnist/blob/master/Fashion_Mnist.ipynb\" target=\"_parent\"><img src=\"https://colab.research.google.com/assets/colab-badge.svg\" alt=\"Open In Colab\"/></a>"
      ]
    },
    {
      "cell_type": "code",
      "metadata": {
        "id": "pF7NXFQaxUpA",
        "colab_type": "code",
        "colab": {}
      },
      "source": [
        "import tensorflow as tf\n",
        "import numpy as np\n",
        "import matplotlib.pyplot as plt\n",
        "from tensorflow.keras.layers import Dense, Flatten , Dropout "
      ],
      "execution_count": 0,
      "outputs": []
    },
    {
      "cell_type": "code",
      "metadata": {
        "id": "6gZW0W8qxunk",
        "colab_type": "code",
        "colab": {}
      },
      "source": [
        "from tensorflow.keras.datasets import fashion_mnist"
      ],
      "execution_count": 0,
      "outputs": []
    },
    {
      "cell_type": "code",
      "metadata": {
        "id": "bOfE8iTzx1CG",
        "colab_type": "code",
        "colab": {}
      },
      "source": [
        "((trainX, trainY) , (testX, testY)) = fashion_mnist.load_data()"
      ],
      "execution_count": 0,
      "outputs": []
    },
    {
      "cell_type": "code",
      "metadata": {
        "id": "GM0xjqAC5dU4",
        "colab_type": "code",
        "colab": {}
      },
      "source": [
        "def normalize(trainX , testX):\n",
        "  return trainX/255.0 , testX/  255.0"
      ],
      "execution_count": 0,
      "outputs": []
    },
    {
      "cell_type": "code",
      "metadata": {
        "id": "7R4iw3P8x9x_",
        "colab_type": "code",
        "colab": {}
      },
      "source": [
        "def prepare_data(trainX , trainY , testX , testY,  num_classes , num_pixels, channel):\n",
        "    trainX = np.array(trainX)\n",
        "    testX = np.array(testX)\n",
        "    trainY = tf.keras.utils.to_categorical(trainY)\n",
        "    testY = tf.keras.utils.to_categorical(testY)\n",
        "\n",
        "    trainX = trainX.reshape(60000, num_pixels, num_pixels , channel)\n",
        "    testX = testX.reshape(10000, num_pixels, num_pixels , channel)\n",
        "\n",
        "    return trainX , trainY , testX , testY"
      ],
      "execution_count": 0,
      "outputs": []
    },
    {
      "cell_type": "code",
      "metadata": {
        "id": "XDnZuE2fx_5F",
        "colab_type": "code",
        "colab": {}
      },
      "source": [
        "trainX , trainY , testX , testY = prepare_data(trainX , trainY , testX , testY, 10 , 28,1)\n",
        "trainX, testX = normalize(trainX , testX)  "
      ],
      "execution_count": 0,
      "outputs": []
    },
    {
      "cell_type": "code",
      "metadata": {
        "id": "GulOaDb00NiA",
        "colab_type": "code",
        "colab": {}
      },
      "source": [
        "model = tf.keras.models.Sequential([\n",
        "                             tf.keras.layers.Conv2D(64, (3,3),padding='same', activation='relu', input_shape=(28,28,1)),\n",
        "                             tf.keras.layers.MaxPooling2D(2,2),\n",
        "                             Dropout(0.3),\n",
        "                             tf.keras.layers.Conv2D(64, (3,3),padding='same', activation='relu'),\n",
        "                             tf.keras.layers.MaxPooling2D(2,2),\n",
        "                             Dropout(0.3),\n",
        "                             Flatten(),\n",
        "                             Dense(256, activation='relu'),\n",
        "                             Dropout(0.5),\n",
        "                             Dense(16, activation='relu'),\n",
        "                             Dense(10, activation='softmax')\n",
        "\n",
        "])\n",
        "\n",
        "model.compile(optimizer='adam', loss='categorical_crossentropy', metrics=['accuracy'])\n"
      ],
      "execution_count": 0,
      "outputs": []
    },
    {
      "cell_type": "code",
      "metadata": {
        "id": "XhYIq3pu0PCe",
        "colab_type": "code",
        "colab": {
          "base_uri": "https://localhost:8080/",
          "height": 204
        },
        "outputId": "61ece557-3057-466d-e6d1-64402334430a"
      },
      "source": [
        "\n",
        "model.fit(trainX, trainY, epochs= 5, batch_size=32  , validation_data =(testX, testY))"
      ],
      "execution_count": 133,
      "outputs": [
        {
          "output_type": "stream",
          "text": [
            "Epoch 1/5\n",
            "1875/1875 [==============================] - 7s 4ms/step - loss: 0.5503 - accuracy: 0.7958 - val_loss: 0.3560 - val_accuracy: 0.8685\n",
            "Epoch 2/5\n",
            "1875/1875 [==============================] - 7s 4ms/step - loss: 0.3608 - accuracy: 0.8693 - val_loss: 0.2979 - val_accuracy: 0.8906\n",
            "Epoch 3/5\n",
            "1875/1875 [==============================] - 7s 4ms/step - loss: 0.3174 - accuracy: 0.8863 - val_loss: 0.2803 - val_accuracy: 0.8965\n",
            "Epoch 4/5\n",
            "1875/1875 [==============================] - 7s 4ms/step - loss: 0.2947 - accuracy: 0.8929 - val_loss: 0.2694 - val_accuracy: 0.9035\n",
            "Epoch 5/5\n",
            "1875/1875 [==============================] - 7s 4ms/step - loss: 0.2757 - accuracy: 0.8984 - val_loss: 0.2551 - val_accuracy: 0.9082\n"
          ],
          "name": "stdout"
        },
        {
          "output_type": "execute_result",
          "data": {
            "text/plain": [
              "<tensorflow.python.keras.callbacks.History at 0x7f602a3d30f0>"
            ]
          },
          "metadata": {
            "tags": []
          },
          "execution_count": 133
        }
      ]
    },
    {
      "cell_type": "code",
      "metadata": {
        "id": "GuDvnfwp0wZg",
        "colab_type": "code",
        "colab": {}
      },
      "source": [
        ""
      ],
      "execution_count": 0,
      "outputs": []
    },
    {
      "cell_type": "code",
      "metadata": {
        "id": "C6FZnS3P5_6F",
        "colab_type": "code",
        "colab": {}
      },
      "source": [
        ""
      ],
      "execution_count": 0,
      "outputs": []
    }
  ]
}