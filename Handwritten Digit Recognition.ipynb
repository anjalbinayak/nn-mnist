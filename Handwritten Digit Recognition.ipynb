{
  "nbformat": 4,
  "nbformat_minor": 0,
  "metadata": {
    "colab": {
      "name": "My First Neural Network",
      "provenance": [],
      "collapsed_sections": [],
      "authorship_tag": "ABX9TyODo2oRpUSnOfky61UJfcVG",
      "include_colab_link": true
    },
    "kernelspec": {
      "name": "python3",
      "display_name": "Python 3"
    },
    "accelerator": "GPU"
  },
  "cells": [
    {
      "cell_type": "markdown",
      "metadata": {
        "id": "view-in-github",
        "colab_type": "text"
      },
      "source": [
        "<a href=\"https://colab.research.google.com/github/anjalbinayak/nn-mnist/blob/master/Handwritten%20Digit%20Recognition.ipynb\" target=\"_parent\"><img src=\"https://colab.research.google.com/assets/colab-badge.svg\" alt=\"Open In Colab\"/></a>"
      ]
    },
    {
      "cell_type": "code",
      "metadata": {
        "id": "6yeoAQoO_5I1",
        "colab_type": "code",
        "colab": {}
      },
      "source": [
        "import tensorflow as tf\n",
        "from tensorflow.keras.layers import Dense , Dropout \n",
        "from tensorflow.keras.models import Sequential\n",
        "import numpy as np\n",
        "import matplotlib.pylab as plt"
      ],
      "execution_count": 0,
      "outputs": []
    },
    {
      "cell_type": "code",
      "metadata": {
        "id": "h2yxAA8vAHCT",
        "colab_type": "code",
        "colab": {}
      },
      "source": [
        "(x_train , y_train) , (x_test, y_test) = tf.keras.datasets.mnist.load_data()\n",
        "\n",
        "\n",
        "\n",
        "def prepare_data(x_train, y_train, x_test , y_test , num_pixels , num_classes):\n",
        "  x_train = np.array(x_train)\n",
        "  x_test = np.array(x_test)\n",
        "\n",
        "\n",
        "  x_train = x_train.reshape(60000, num_pixels)\n",
        "  y_train = tf.keras.utils.to_categorical(y_train)\n",
        "  x_test = x_test.reshape(10000, 784)\n",
        "  y_test = tf.keras.utils.to_categorical(y_test)\n",
        "\n",
        "  return x_train , y_train , x_test , y_test\n",
        "\n",
        "\n",
        "def normalize(x_train , x_test):\n",
        "  x_train = x_train / 255\n",
        "  x_test = x_test / 255\n",
        "\n",
        "  return x_train , x_test\n",
        "\n",
        "\n",
        "\n"
      ],
      "execution_count": 0,
      "outputs": []
    },
    {
      "cell_type": "code",
      "metadata": {
        "id": "d1l8uM2vAzvw",
        "colab_type": "code",
        "colab": {}
      },
      "source": [
        "def create_model():\n",
        "  model = Sequential([\n",
        "                    Dense(512 , input_shape=(784,)),\n",
        "                    Dense(128, activation='relu'),\n",
        "                    Dropout(0.2),\n",
        "                    Dense(128, activation='relu'),\n",
        "                    Dense(10, activation='softmax')\n",
        "  ])\n",
        "\n",
        "  model.compile(optimizer='adam', loss = 'categorical_crossentropy',\n",
        "              metrics=['accuracy'])\n",
        "  return model\n",
        "\n"
      ],
      "execution_count": 0,
      "outputs": []
    },
    {
      "cell_type": "code",
      "metadata": {
        "id": "LiFOW6GiBEqS",
        "colab_type": "code",
        "colab": {}
      },
      "source": [
        "num_pixels = 784\n",
        "num_classes = 10\n",
        "x_train , y_train , x_test ,  y_test = prepare_data(x_train , y_train , x_test , y_test ,num_pixels , num_classes )\n",
        "x_train , x_test = normalize(x_train , x_test)\n",
        "\n",
        "model = create_model()\n",
        "\n"
      ],
      "execution_count": 0,
      "outputs": []
    },
    {
      "cell_type": "code",
      "metadata": {
        "id": "W5KCx_oZBGYn",
        "colab_type": "code",
        "outputId": "04235f6f-0e4c-4064-bf50-1dff732761ce",
        "colab": {
          "base_uri": "https://localhost:8080/",
          "height": 357
        }
      },
      "source": [
        "history = model.fit(x_train,y_train , batch_size=32, epochs=10, validation_data=(x_test, y_test))"
      ],
      "execution_count": 64,
      "outputs": [
        {
          "output_type": "stream",
          "text": [
            "Epoch 1/10\n",
            "1875/1875 [==============================] - 5s 3ms/step - loss: 0.2745 - accuracy: 0.9168 - val_loss: 0.1549 - val_accuracy: 0.9505\n",
            "Epoch 2/10\n",
            "1875/1875 [==============================] - 5s 3ms/step - loss: 0.1672 - accuracy: 0.9500 - val_loss: 0.1225 - val_accuracy: 0.9625\n",
            "Epoch 3/10\n",
            "1875/1875 [==============================] - 5s 3ms/step - loss: 0.1433 - accuracy: 0.9562 - val_loss: 0.1054 - val_accuracy: 0.9699\n",
            "Epoch 4/10\n",
            "1875/1875 [==============================] - 5s 3ms/step - loss: 0.1272 - accuracy: 0.9610 - val_loss: 0.1368 - val_accuracy: 0.9584\n",
            "Epoch 5/10\n",
            "1875/1875 [==============================] - 5s 3ms/step - loss: 0.1200 - accuracy: 0.9637 - val_loss: 0.1032 - val_accuracy: 0.9702\n",
            "Epoch 6/10\n",
            "1875/1875 [==============================] - 5s 3ms/step - loss: 0.1108 - accuracy: 0.9661 - val_loss: 0.0936 - val_accuracy: 0.9726\n",
            "Epoch 7/10\n",
            "1875/1875 [==============================] - 5s 3ms/step - loss: 0.1042 - accuracy: 0.9674 - val_loss: 0.0884 - val_accuracy: 0.9749\n",
            "Epoch 8/10\n",
            "1875/1875 [==============================] - 5s 3ms/step - loss: 0.0992 - accuracy: 0.9692 - val_loss: 0.1028 - val_accuracy: 0.9721\n",
            "Epoch 9/10\n",
            "1875/1875 [==============================] - 5s 3ms/step - loss: 0.0967 - accuracy: 0.9712 - val_loss: 0.0931 - val_accuracy: 0.9712\n",
            "Epoch 10/10\n",
            "1875/1875 [==============================] - 5s 3ms/step - loss: 0.0926 - accuracy: 0.9718 - val_loss: 0.0933 - val_accuracy: 0.9734\n"
          ],
          "name": "stdout"
        }
      ]
    },
    {
      "cell_type": "code",
      "metadata": {
        "id": "SnppS8QENKhZ",
        "colab_type": "code",
        "colab": {
          "base_uri": "https://localhost:8080/",
          "height": 282
        },
        "outputId": "db9347ed-4d8d-40c2-b448-5f9a9e95b80f"
      },
      "source": [
        "plt.plot(history.history['accuracy'])\n",
        "plt.plot(history.history['val_accuracy'])\n",
        "plt.legend(['train','test'], loc='upper left')\n"
      ],
      "execution_count": 65,
      "outputs": [
        {
          "output_type": "execute_result",
          "data": {
            "text/plain": [
              "<matplotlib.legend.Legend at 0x7fb248100278>"
            ]
          },
          "metadata": {
            "tags": []
          },
          "execution_count": 65
        },
        {
          "output_type": "display_data",
          "data": {
            "image/png": "[encoded data removed]",
            "text/plain": [
              "<Figure size 432x288 with 1 Axes>"
            ]
          },
          "metadata": {
            "tags": [],
            "needs_background": "light"
          }
        }
      ]
    },
    {
      "cell_type": "code",
      "metadata": {
        "id": "3yGc1jaIx-d-",
        "colab_type": "code",
        "colab": {
          "base_uri": "https://localhost:8080/",
          "height": 282
        },
        "outputId": "427af659-9657-443d-81a9-6402c3edf924"
      },
      "source": [
        "plt.plot(history.history['loss'])\n",
        "plt.plot(history.history['val_loss'])\n",
        "plt.legend(['train','test'], loc='upper left')"
      ],
      "execution_count": 66,
      "outputs": [
        {
          "output_type": "execute_result",
          "data": {
            "text/plain": [
              "<matplotlib.legend.Legend at 0x7fb24812e588>"
            ]
          },
          "metadata": {
            "tags": []
          },
          "execution_count": 66
        },
        {
          "output_type": "display_data",
          "data": {
            "image/png": "[encoded data removed]",
            "text/plain": [
              "<Figure size 432x288 with 1 Axes>"
            ]
          },
          "metadata": {
            "tags": [],
            "needs_background": "light"
          }
        }
      ]
    },
    {
      "cell_type": "code",
      "metadata": {
        "id": "V_nUyvJEzfhC",
        "colab_type": "code",
        "colab": {}
      },
      "source": [
        "#Fun Fact:I would rather , rotate accuraccy graph by 180deg to get loss graph"
      ],
      "execution_count": 0,
      "outputs": []
    },
    {
      "cell_type": "code",
      "metadata": {
        "id": "oStTAVWt0EJO",
        "colab_type": "code",
        "colab": {
          "base_uri": "https://localhost:8080/",
          "height": 68
        },
        "outputId": "dd7165de-13f1-4001-9c65-4361a6281d45"
      },
      "source": [
        "model.predict(x_train[0].reshape(1,784))"
      ],
      "execution_count": 36,
      "outputs": [
        {
          "output_type": "execute_result",
          "data": {
            "text/plain": [
              "array([[2.0876587e-16, 1.1592992e-07, 6.4070610e-11, 1.9995518e-06,\n",
              "        7.6747345e-14, 9.9999785e-01, 7.1450312e-15, 2.1514902e-15,\n",
              "        1.1078965e-10, 9.0947624e-11]], dtype=float32)"
            ]
          },
          "metadata": {
            "tags": []
          },
          "execution_count": 36
        }
      ]
    },
    {
      "cell_type": "code",
      "metadata": {
        "id": "Urq9GWJw0mQO",
        "colab_type": "code",
        "colab": {}
      },
      "source": [
        ""
      ],
      "execution_count": 0,
      "outputs": []
    }
  ]
}